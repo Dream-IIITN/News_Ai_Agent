{
 "cells": [
  {
   "cell_type": "code",
   "execution_count": 1,
   "id": "bbd55837",
   "metadata": {},
   "outputs": [],
   "source": [
    "import pandas as pd\n",
    "import numpy as np\n",
    "import re"
   ]
  },
  {
   "cell_type": "code",
   "execution_count": 2,
   "id": "4ed78126",
   "metadata": {},
   "outputs": [],
   "source": [
    "data_q_4 = pd .read_csv('all_news_q4_2024.csv')\n",
    "data_q_1 = pd .read_csv('all_news_q1_2025.csv')"
   ]
  },
  {
   "cell_type": "code",
   "execution_count": 3,
   "id": "44437fb9",
   "metadata": {},
   "outputs": [
    {
     "data": {
      "text/html": [
       "<div>\n",
       "<style scoped>\n",
       "    .dataframe tbody tr th:only-of-type {\n",
       "        vertical-align: middle;\n",
       "    }\n",
       "\n",
       "    .dataframe tbody tr th {\n",
       "        vertical-align: top;\n",
       "    }\n",
       "\n",
       "    .dataframe thead th {\n",
       "        text-align: right;\n",
       "    }\n",
       "</style>\n",
       "<table border=\"1\" class=\"dataframe\">\n",
       "  <thead>\n",
       "    <tr style=\"text-align: right;\">\n",
       "      <th></th>\n",
       "      <th>label</th>\n",
       "      <th>text</th>\n",
       "    </tr>\n",
       "  </thead>\n",
       "  <tbody>\n",
       "    <tr>\n",
       "      <th>0</th>\n",
       "      <td>The Guardian;Middle East crisis live: Israel ‘...</td>\n",
       "      <td>Israeli media is reporting that one person has...</td>\n",
       "    </tr>\n",
       "    <tr>\n",
       "      <th>1</th>\n",
       "      <td>The Guardian;Australia financially assisting s...</td>\n",
       "      <td>The federal government is understood to be fin...</td>\n",
       "    </tr>\n",
       "    <tr>\n",
       "      <th>2</th>\n",
       "      <td>The Guardian;Structural racism leading to star...</td>\n",
       "      <td>Structural racism is leading to stark health i...</td>\n",
       "    </tr>\n",
       "    <tr>\n",
       "      <th>3</th>\n",
       "      <td>The Guardian;Tuesday briefing: What we know so...</td>\n",
       "      <td>Good morning. Overnight, Israel began what it ...</td>\n",
       "    </tr>\n",
       "    <tr>\n",
       "      <th>4</th>\n",
       "      <td>The Guardian;US secretary of defence warns of ...</td>\n",
       "      <td>Here’s where things stand in the hours since I...</td>\n",
       "    </tr>\n",
       "  </tbody>\n",
       "</table>\n",
       "</div>"
      ],
      "text/plain": [
       "                                               label  \\\n",
       "0  The Guardian;Middle East crisis live: Israel ‘...   \n",
       "1  The Guardian;Australia financially assisting s...   \n",
       "2  The Guardian;Structural racism leading to star...   \n",
       "3  The Guardian;Tuesday briefing: What we know so...   \n",
       "4  The Guardian;US secretary of defence warns of ...   \n",
       "\n",
       "                                                text  \n",
       "0  Israeli media is reporting that one person has...  \n",
       "1  The federal government is understood to be fin...  \n",
       "2  Structural racism is leading to stark health i...  \n",
       "3  Good morning. Overnight, Israel began what it ...  \n",
       "4  Here’s where things stand in the hours since I...  "
      ]
     },
     "execution_count": 3,
     "metadata": {},
     "output_type": "execute_result"
    }
   ],
   "source": [
    "data_q_4.head()"
   ]
  },
  {
   "cell_type": "code",
   "execution_count": 4,
   "id": "b8926a9a",
   "metadata": {},
   "outputs": [],
   "source": [
    "def preprocess(df):\n",
    "    df[['source', 'headline', 'link', 'time']] = df['label'].str.split(';', n=3, expand=True).fillna('-1')\n",
    "    df.drop(columns=['label'], inplace=True)\n",
    "    df.isnull().sum()\n",
    "    df = df.dropna()\n",
    "    dfe = df[['link','source','headline','text']]\n",
    "    return dfe"
   ]
  },
  {
   "cell_type": "code",
   "execution_count": null,
   "id": "28b67f85",
   "metadata": {},
   "outputs": [],
   "source": [
    "result = preprocess(data_q_4)\n",
    "result.to_csv('')\n"
   ]
  }
 ],
 "metadata": {
  "kernelspec": {
   "display_name": "Python 3 (ipykernel)",
   "language": "python",
   "name": "python3"
  },
  "language_info": {
   "codemirror_mode": {
    "name": "ipython",
    "version": 3
   },
   "file_extension": ".py",
   "mimetype": "text/x-python",
   "name": "python",
   "nbconvert_exporter": "python",
   "pygments_lexer": "ipython3",
   "version": "3.9.13"
  }
 },
 "nbformat": 4,
 "nbformat_minor": 5
}

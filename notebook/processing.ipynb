{
 "cells": [
  {
   "cell_type": "code",
   "execution_count": 1,
   "id": "171b2e46",
   "metadata": {},
   "outputs": [],
   "source": [
    "import pandas as pd\n",
    "import numpy as np\n",
    "import re"
   ]
  },
  {
   "cell_type": "code",
   "execution_count": 2,
   "id": "9cfd3df5",
   "metadata": {},
   "outputs": [],
   "source": [
    "data_q_4 = pd .read_csv('all_news_q4_2024.csv')\n",
    "data_q_1 = pd .read_csv('all_news_q1_2025.csv')"
   ]
  },
  {
   "cell_type": "code",
   "execution_count": 3,
   "id": "dd543ee7",
   "metadata": {},
   "outputs": [
    {
     "data": {
      "text/html": [
       "<div>\n",
       "<style scoped>\n",
       "    .dataframe tbody tr th:only-of-type {\n",
       "        vertical-align: middle;\n",
       "    }\n",
       "\n",
       "    .dataframe tbody tr th {\n",
       "        vertical-align: top;\n",
       "    }\n",
       "\n",
       "    .dataframe thead th {\n",
       "        text-align: right;\n",
       "    }\n",
       "</style>\n",
       "<table border=\"1\" class=\"dataframe\">\n",
       "  <thead>\n",
       "    <tr style=\"text-align: right;\">\n",
       "      <th></th>\n",
       "      <th>label</th>\n",
       "      <th>text</th>\n",
       "    </tr>\n",
       "  </thead>\n",
       "  <tbody>\n",
       "    <tr>\n",
       "      <th>0</th>\n",
       "      <td>The Guardian;Middle East crisis live: Israel ‘...</td>\n",
       "      <td>Israeli media is reporting that one person has...</td>\n",
       "    </tr>\n",
       "    <tr>\n",
       "      <th>1</th>\n",
       "      <td>The Guardian;Australia financially assisting s...</td>\n",
       "      <td>The federal government is understood to be fin...</td>\n",
       "    </tr>\n",
       "    <tr>\n",
       "      <th>2</th>\n",
       "      <td>The Guardian;Structural racism leading to star...</td>\n",
       "      <td>Structural racism is leading to stark health i...</td>\n",
       "    </tr>\n",
       "    <tr>\n",
       "      <th>3</th>\n",
       "      <td>The Guardian;Tuesday briefing: What we know so...</td>\n",
       "      <td>Good morning. Overnight, Israel began what it ...</td>\n",
       "    </tr>\n",
       "    <tr>\n",
       "      <th>4</th>\n",
       "      <td>The Guardian;US secretary of defence warns of ...</td>\n",
       "      <td>Here’s where things stand in the hours since I...</td>\n",
       "    </tr>\n",
       "  </tbody>\n",
       "</table>\n",
       "</div>"
      ],
      "text/plain": [
       "                                               label  \\\n",
       "0  The Guardian;Middle East crisis live: Israel ‘...   \n",
       "1  The Guardian;Australia financially assisting s...   \n",
       "2  The Guardian;Structural racism leading to star...   \n",
       "3  The Guardian;Tuesday briefing: What we know so...   \n",
       "4  The Guardian;US secretary of defence warns of ...   \n",
       "\n",
       "                                                text  \n",
       "0  Israeli media is reporting that one person has...  \n",
       "1  The federal government is understood to be fin...  \n",
       "2  Structural racism is leading to stark health i...  \n",
       "3  Good morning. Overnight, Israel began what it ...  \n",
       "4  Here’s where things stand in the hours since I...  "
      ]
     },
     "execution_count": 3,
     "metadata": {},
     "output_type": "execute_result"
    }
   ],
   "source": [
    "data_q_4.head()"
   ]
  },
  {
   "cell_type": "code",
   "execution_count": 4,
   "id": "f7bcd5aa",
   "metadata": {},
   "outputs": [],
   "source": [
    "def preprocess(df):\n",
    "    df[['source', 'headline', 'link', 'time']] = df['label'].str.split(';', n=3, expand=True).fillna('-1')\n",
    "    df.drop(columns=['label'], inplace=True)\n",
    "    df.isnull().sum()\n",
    "    df = df.dropna()\n",
    "    dfe = df[['link','source','headline','text']]\n",
    "    return dfe"
   ]
  },
  {
   "cell_type": "code",
   "execution_count": 5,
   "id": "cc3a45ea",
   "metadata": {},
   "outputs": [],
   "source": [
    "result = preprocess(data_q_4)\n",
    "result.to_csv('process_q4_2024.csv', index=False)"
   ]
  },
  {
   "cell_type": "code",
   "execution_count": 6,
   "id": "38125954",
   "metadata": {},
   "outputs": [],
   "source": [
    "result = preprocess(data_q_1)\n",
    "result.to_csv('process_q1_2025.csv', index=False)"
   ]
  },
  {
   "cell_type": "code",
   "execution_count": 7,
   "id": "0ced4fe0",
   "metadata": {},
   "outputs": [
    {
     "data": {
      "text/html": [
       "<div>\n",
       "<style scoped>\n",
       "    .dataframe tbody tr th:only-of-type {\n",
       "        vertical-align: middle;\n",
       "    }\n",
       "\n",
       "    .dataframe tbody tr th {\n",
       "        vertical-align: top;\n",
       "    }\n",
       "\n",
       "    .dataframe thead th {\n",
       "        text-align: right;\n",
       "    }\n",
       "</style>\n",
       "<table border=\"1\" class=\"dataframe\">\n",
       "  <thead>\n",
       "    <tr style=\"text-align: right;\">\n",
       "      <th></th>\n",
       "      <th>link</th>\n",
       "      <th>source</th>\n",
       "      <th>headline</th>\n",
       "      <th>text</th>\n",
       "    </tr>\n",
       "  </thead>\n",
       "  <tbody>\n",
       "    <tr>\n",
       "      <th>0</th>\n",
       "      <td>https://www.theguardian.com/world/live/2024/oc...</td>\n",
       "      <td>The Guardian</td>\n",
       "      <td>Middle East crisis live: Israel ‘will do whate...</td>\n",
       "      <td>Israeli media is reporting that one person has...</td>\n",
       "    </tr>\n",
       "    <tr>\n",
       "      <th>1</th>\n",
       "      <td>https://www.theguardian.com/world/2024/oct/01/...</td>\n",
       "      <td>The Guardian</td>\n",
       "      <td>Australia financially assisting some citizens ...</td>\n",
       "      <td>The federal government is understood to be fin...</td>\n",
       "    </tr>\n",
       "    <tr>\n",
       "      <th>2</th>\n",
       "      <td>https://www.theguardian.com/world/2024/oct/01/...</td>\n",
       "      <td>The Guardian</td>\n",
       "      <td>Structural racism leading to stark health ineq...</td>\n",
       "      <td>Structural racism is leading to stark health i...</td>\n",
       "    </tr>\n",
       "    <tr>\n",
       "      <th>3</th>\n",
       "      <td>https://www.theguardian.com/world/2024/oct/01/...</td>\n",
       "      <td>The Guardian</td>\n",
       "      <td>Tuesday briefing: What we know so far about Is...</td>\n",
       "      <td>Good morning. Overnight, Israel began what it ...</td>\n",
       "    </tr>\n",
       "    <tr>\n",
       "      <th>4</th>\n",
       "      <td>https://www.theguardian.com/world/live/2024/se...</td>\n",
       "      <td>The Guardian</td>\n",
       "      <td>US secretary of defence warns of ‘serious cons...</td>\n",
       "      <td>Here’s where things stand in the hours since I...</td>\n",
       "    </tr>\n",
       "  </tbody>\n",
       "</table>\n",
       "</div>"
      ],
      "text/plain": [
       "                                                link        source  \\\n",
       "0  https://www.theguardian.com/world/live/2024/oc...  The Guardian   \n",
       "1  https://www.theguardian.com/world/2024/oct/01/...  The Guardian   \n",
       "2  https://www.theguardian.com/world/2024/oct/01/...  The Guardian   \n",
       "3  https://www.theguardian.com/world/2024/oct/01/...  The Guardian   \n",
       "4  https://www.theguardian.com/world/live/2024/se...  The Guardian   \n",
       "\n",
       "                                            headline  \\\n",
       "0  Middle East crisis live: Israel ‘will do whate...   \n",
       "1  Australia financially assisting some citizens ...   \n",
       "2  Structural racism leading to stark health ineq...   \n",
       "3  Tuesday briefing: What we know so far about Is...   \n",
       "4  US secretary of defence warns of ‘serious cons...   \n",
       "\n",
       "                                                text  \n",
       "0  Israeli media is reporting that one person has...  \n",
       "1  The federal government is understood to be fin...  \n",
       "2  Structural racism is leading to stark health i...  \n",
       "3  Good morning. Overnight, Israel began what it ...  \n",
       "4  Here’s where things stand in the hours since I...  "
      ]
     },
     "execution_count": 7,
     "metadata": {},
     "output_type": "execute_result"
    }
   ],
   "source": [
    "data_q_4 = pd .read_csv('process_q4_2024.csv')\n",
    "data_q_4.head()"
   ]
  },
  {
   "cell_type": "code",
   "execution_count": 8,
   "id": "7a62680a",
   "metadata": {},
   "outputs": [
    {
     "data": {
      "text/plain": [
       "link        0\n",
       "source      0\n",
       "headline    0\n",
       "text        0\n",
       "dtype: int64"
      ]
     },
     "execution_count": 8,
     "metadata": {},
     "output_type": "execute_result"
    }
   ],
   "source": [
    "data_q_4.isnull().sum()"
   ]
  },
  {
   "cell_type": "code",
   "execution_count": 13,
   "id": "19a7edf6",
   "metadata": {},
   "outputs": [
    {
     "name": "stdout",
     "output_type": "stream",
     "text": [
      "link\n",
      "https://www.dw.com/en/how-the-brain-learns-science-based-tips-for-exam-revision/a-70663331?maca=en-rss-en-all-1573-rdf    67\n",
      "https://www.dw.com/en/75-years-of-frankfurt-book-fair-world-stage-for-protests/a-70283991?maca=en-rss-en-all-1573-rdf     53\n",
      "https://www.dw.com/en/omar-marmoush-the-bundesliga-and-egypt-s-next-big-star/a-70733853?maca=en-rss-en-all-1573-rdf       49\n",
      "https://www.dw.com/en/how-europe-s-creating-the-moon-on-earth/a-70343435?maca=en-rss-en-all-1573-rdf                      42\n",
      "https://www.dw.com/en/how-is-climate-change-impacting-flooding-around-the-world/a-69289787?maca=en-rss-en-all-1573-rdf    41\n",
      "                                                                                                                          ..\n",
      "https://www.bbc.com/news/articles/cy0lkxl7061o                                                                             1\n",
      "https://www.bbc.com/news/articles/c79ze8gv1w4o                                                                             1\n",
      "https://www.bbc.com/news/articles/ckgv7pj4vd2o                                                                             1\n",
      "https://www.bbc.com/sport/olympics/articles/cgejgnxzg32o                                                                   1\n",
      "https://www.abc.net.au/news/2024-12-31/queensland-record-rain-central-south-burnett-bom-flooding-floods/104773546          1\n",
      "Name: count, Length: 27914, dtype: int64\n",
      "source\n",
      "Deutsche Welle               17195\n",
      "The Hindu                     7326\n",
      "Le Monde                      4020\n",
      "BBC News                      3516\n",
      "TASS                          2751\n",
      "Al Jazeera                    2410\n",
      "The Guardian                  2067\n",
      "South China Morning Post      2002\n",
      "NPR                            967\n",
      "The Sydney Morning Herald      914\n",
      "ABC News                       600\n",
      "Name: count, dtype: int64\n",
      "headline\n",
      "How the brain learns: Science-based tips for exam revision                                                       67\n",
      "75 years of Frankfurt Book Fair: World stage for protests                                                        53\n",
      "Omar Marmoush: The Bundesliga and Egypt's next big star                                                          49\n",
      "How Europe's creating the moon on Earth                                                                          42\n",
      "How is climate change impacting flooding around the world?                                                       41\n",
      "                                                                                                                 ..\n",
      "Villagers stone tiger to death in Rajasthan a day after he 'kills' shepherd                                       1\n",
      "Statehood restoration to be befitting reciprocation to faith people reposed in democracy: J&K L-G Manoj Sinha     1\n",
      "IIT Madras-incubated Triolt Energy secures ₹71 lakh funding                                                       1\n",
      "Kerala bypolls: Arguments about civility in electoral politics dominate Palakkad byelection narrative             1\n",
      "Drivers and campers rescued as record rain hits Queensland                                                        1\n",
      "Name: count, Length: 28504, dtype: int64\n",
      "text\n",
      "Here is a select list of stories to start the day                                                                                                                                                                                                                                                  65\n",
      "David Baker, Demis Hassabis and John M. Jumper have been awarded the Nobel Prize in chemistry for their research into designing proteins and predicting their structures.                                                                                                                          58\n",
      "Why is what some might call the most classic, or perhaps conservative, of all sexual positions named after missionaries? It's time to pull back the covers of this erotic origin story and see what's beneath.                                                                                     50\n",
      "Mo Salah's Egyptian teammate Omar Marmoush has gone from largely unknown to one of the Bundesliga's hottest commodities.                                                                                                                                                                           45\n",
      "Getting to the moon takes a lot of small steps, like Europe's new LUNA training facility. But it's not there yet. Next step: a moon gravity simulator.                                                                                                                                             42\n",
      "                                                                                                                                                                                                                                                                                                   ..\n",
      "Ms. Harris made campaign stops in East Lansing, Pontiac and Detroit on Sunday. Mr. Trump is scheduled to campaign in Michigan on Monday. An early-October poll from the Arab American Institute suggested that Mr. Trump and Ms. Harris were tied at the time, for support from Arab Americans.     1\n",
      "Chief Minister Siddaramaiah questions need for BJP protest even after the Karnataka government asked all notices to be revoked and any unauthorised amendments in the land records of farmers to be nullified                                                                                       1\n",
      "BJP has called for a protest across Karnataka over the waqf issue despite the State government clarifying that no property of farmers will be taken away                                                                                                                                            1\n",
      "Not a single farmer suicide owing to agrarian crisis has happened among the families of 9,600 farmers of Vidarbha region who are part of this organic farming project since 2020, says official                                                                                                     1\n",
      "Several people had to be rescued from floodwaters overnight after record rain fell on parts of Queensland.                                                                                                                                                                                          1\n",
      "Name: count, Length: 28255, dtype: int64\n"
     ]
    }
   ],
   "source": [
    "for x in data_q_4.columns:\n",
    "    print(data_q_4[x].value_counts())"
   ]
  },
  {
   "cell_type": "code",
   "execution_count": null,
   "id": "abab79dd",
   "metadata": {},
   "outputs": [],
   "source": [
    "# # from datetime import datetime\n",
    "# # df[['date', 'timing']] = df['time'].str.split('T',n=1, expand=True).fillna('-1')\n",
    "# # df['timing'] = df['timing'].str.rstrip('Z')\n",
    "# df.drop(columns=['time'], inplace=True)"
   ]
  },
  {
   "cell_type": "code",
   "execution_count": null,
   "id": "55693e62",
   "metadata": {},
   "outputs": [],
   "source": [
    "import pandas as pd\n",
    "from datetime import datetime\n",
    "\n",
    "def split_datetime(datetime_str):\n",
    "    # Convert the string to a datetime object (removing 'Z' at the end)\n",
    "    datetime_obj = datetime.strptime(datetime_str[:-1], \"%Y-%m-%dT%H:%M:%S\")\n",
    "    \n",
    "    # Extract components\n",
    "    return {\n",
    "        'Year': datetime_obj.year,\n",
    "        'Month': datetime_obj.month,\n",
    "        'Day': datetime_obj.day,\n",
    "        'Hour': datetime_obj.hour,\n",
    "        'Minute': datetime_obj.minute,\n",
    "        'Second': datetime_obj.second,\n",
    "        'Timezone': 'Z'\n",
    "    }\n",
    "\n",
    "# Apply the function to the list of datetime strings\n",
    "split_data = [split_datetime(dt) for dt in data]\n",
    "\n",
    "# Create a DataFrame\n",
    "df = pd.DataFrame(split_data)\n",
    "\n",
    "# Display the DataFrame\n",
    "print(df)"
   ]
  }
 ],
 "metadata": {
  "kernelspec": {
   "display_name": "Python 3 (ipykernel)",
   "language": "python",
   "name": "python3"
  },
  "language_info": {
   "codemirror_mode": {
    "name": "ipython",
    "version": 3
   },
   "file_extension": ".py",
   "mimetype": "text/x-python",
   "name": "python",
   "nbconvert_exporter": "python",
   "pygments_lexer": "ipython3",
   "version": "3.9.13"
  }
 },
 "nbformat": 4,
 "nbformat_minor": 5
}
